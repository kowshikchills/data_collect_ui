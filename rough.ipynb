{
 "cells": [
  {
   "cell_type": "code",
   "execution_count": 9,
   "metadata": {},
   "outputs": [],
   "source": [
    "import pandas as pd\n",
    "import numpy as np\n",
    "import streamlit as st"
   ]
  },
  {
   "cell_type": "code",
   "execution_count": 92,
   "metadata": {},
   "outputs": [],
   "source": [
    "df_file = pd.read_pickle('data/data_tagging.pkl')"
   ]
  },
  {
   "cell_type": "code",
   "execution_count": null,
   "metadata": {},
   "outputs": [],
   "source": []
  },
  {
   "cell_type": "code",
   "execution_count": 87,
   "metadata": {},
   "outputs": [
    {
     "data": {
      "text/html": [
       "<div>\n",
       "<style scoped>\n",
       "    .dataframe tbody tr th:only-of-type {\n",
       "        vertical-align: middle;\n",
       "    }\n",
       "\n",
       "    .dataframe tbody tr th {\n",
       "        vertical-align: top;\n",
       "    }\n",
       "\n",
       "    .dataframe thead th {\n",
       "        text-align: right;\n",
       "    }\n",
       "</style>\n",
       "<table border=\"1\" class=\"dataframe\">\n",
       "  <thead>\n",
       "    <tr style=\"text-align: right;\">\n",
       "      <th></th>\n",
       "      <th>headings</th>\n",
       "      <th>tags</th>\n",
       "      <th>TrainId</th>\n",
       "    </tr>\n",
       "  </thead>\n",
       "  <tbody>\n",
       "    <tr>\n",
       "      <th>2</th>\n",
       "      <td>At 105, Ustad Abdul Rashid Khan is the oldest ...</td>\n",
       "      <td>[Current Affairs 2013, IBPS, January 2013]</td>\n",
       "      <td>2</td>\n",
       "    </tr>\n",
       "    <tr>\n",
       "      <th>3</th>\n",
       "      <td>Singer S. Janaki declines Padma Bhushan</td>\n",
       "      <td>[Current Affairs 2013, Entertainment, January ...</td>\n",
       "      <td>3</td>\n",
       "    </tr>\n",
       "    <tr>\n",
       "      <th>4</th>\n",
       "      <td>India, Bangladesh ink extradition and visa pacts</td>\n",
       "      <td>[Current Affairs 2013, India-Bangladesh, India...</td>\n",
       "      <td>4</td>\n",
       "    </tr>\n",
       "    <tr>\n",
       "      <th>5</th>\n",
       "      <td>Ranji Trophy: Mumbai claim their 40th title, d...</td>\n",
       "      <td>[Cricket, Current Affairs 2013, IBPS, January ...</td>\n",
       "      <td>5</td>\n",
       "    </tr>\n",
       "    <tr>\n",
       "      <th>6</th>\n",
       "      <td>Iran claims to have sent monkey into space</td>\n",
       "      <td>[Current Affairs 2013, Iran, January 2013]</td>\n",
       "      <td>6</td>\n",
       "    </tr>\n",
       "    <tr>\n",
       "      <th>...</th>\n",
       "      <td>...</td>\n",
       "      <td>...</td>\n",
       "      <td>...</td>\n",
       "    </tr>\n",
       "    <tr>\n",
       "      <th>26995</th>\n",
       "      <td>Sample Registration System (SRS) Statistical R...</td>\n",
       "      <td>[Infant mortality, Infant Mortality Rate, Neon...</td>\n",
       "      <td>26995</td>\n",
       "    </tr>\n",
       "    <tr>\n",
       "      <th>26996</th>\n",
       "      <td>Current Affairs- Today’s Headlines: September ...</td>\n",
       "      <td>[2022, Current Affairs, Current Affairs: News ...</td>\n",
       "      <td>26996</td>\n",
       "    </tr>\n",
       "    <tr>\n",
       "      <th>26997</th>\n",
       "      <td>Breakthrough Prizes 2023- Winners</td>\n",
       "      <td>[Breakthrough Prize, Breakthrough Prize in Fun...</td>\n",
       "      <td>26997</td>\n",
       "    </tr>\n",
       "    <tr>\n",
       "      <th>26998</th>\n",
       "      <td>Committee for pharma marketing practices</td>\n",
       "      <td>[CBDT, Department of Pharmaceuticals, Pharmace...</td>\n",
       "      <td>26998</td>\n",
       "    </tr>\n",
       "    <tr>\n",
       "      <th>26999</th>\n",
       "      <td>Defence ministry contract for BrahMos missiles</td>\n",
       "      <td>[Brahmos, BrahMos Aerospace, BrahMos Aerospace...</td>\n",
       "      <td>26999</td>\n",
       "    </tr>\n",
       "  </tbody>\n",
       "</table>\n",
       "<p>26998 rows × 3 columns</p>\n",
       "</div>"
      ],
      "text/plain": [
       "                                                headings  \\\n",
       "2      At 105, Ustad Abdul Rashid Khan is the oldest ...   \n",
       "3                Singer S. Janaki declines Padma Bhushan   \n",
       "4       India, Bangladesh ink extradition and visa pacts   \n",
       "5      Ranji Trophy: Mumbai claim their 40th title, d...   \n",
       "6             Iran claims to have sent monkey into space   \n",
       "...                                                  ...   \n",
       "26995  Sample Registration System (SRS) Statistical R...   \n",
       "26996  Current Affairs- Today’s Headlines: September ...   \n",
       "26997                  Breakthrough Prizes 2023- Winners   \n",
       "26998           Committee for pharma marketing practices   \n",
       "26999     Defence ministry contract for BrahMos missiles   \n",
       "\n",
       "                                                    tags  TrainId  \n",
       "2             [Current Affairs 2013, IBPS, January 2013]        2  \n",
       "3      [Current Affairs 2013, Entertainment, January ...        3  \n",
       "4      [Current Affairs 2013, India-Bangladesh, India...        4  \n",
       "5      [Cricket, Current Affairs 2013, IBPS, January ...        5  \n",
       "6             [Current Affairs 2013, Iran, January 2013]        6  \n",
       "...                                                  ...      ...  \n",
       "26995  [Infant mortality, Infant Mortality Rate, Neon...    26995  \n",
       "26996  [2022, Current Affairs, Current Affairs: News ...    26996  \n",
       "26997  [Breakthrough Prize, Breakthrough Prize in Fun...    26997  \n",
       "26998  [CBDT, Department of Pharmaceuticals, Pharmace...    26998  \n",
       "26999  [Brahmos, BrahMos Aerospace, BrahMos Aerospace...    26999  \n",
       "\n",
       "[26998 rows x 3 columns]"
      ]
     },
     "execution_count": 87,
     "metadata": {},
     "output_type": "execute_result"
    }
   ],
   "source": [
    "df_file"
   ]
  },
  {
   "cell_type": "code",
   "execution_count": 49,
   "metadata": {},
   "outputs": [],
   "source": [
    "tags = df_file['tags'].values[1000]"
   ]
  },
  {
   "cell_type": "code",
   "execution_count": 50,
   "metadata": {},
   "outputs": [
    {
     "data": {
      "text/plain": [
       "['Current Affairs 2013', 'Haryana', 'IT']"
      ]
     },
     "execution_count": 50,
     "metadata": {},
     "output_type": "execute_result"
    }
   ],
   "source": [
    "tags"
   ]
  },
  {
   "cell_type": "code",
   "execution_count": 51,
   "metadata": {},
   "outputs": [],
   "source": [
    "import re\n",
    "tags_ = [x for x in tags if re.match(\"^[A-Za-z_-]*$\", x)]\n"
   ]
  },
  {
   "cell_type": "code",
   "execution_count": 54,
   "metadata": {},
   "outputs": [
    {
     "data": {
      "text/plain": [
       "'Haryana, IT'"
      ]
     },
     "execution_count": 54,
     "metadata": {},
     "output_type": "execute_result"
    }
   ],
   "source": [
    " ', '.join(tags_)"
   ]
  },
  {
   "cell_type": "code",
   "execution_count": 15,
   "metadata": {},
   "outputs": [],
   "source": [
    "from os.path import exists\n",
    "path_file = 'data/state_file.csv'"
   ]
  },
  {
   "cell_type": "code",
   "execution_count": 55,
   "metadata": {},
   "outputs": [],
   "source": [
    "if not exists(path_file):\n",
    "    df = pd.DataFrame()\n",
    "    df['TrainId'] = []\n",
    "    df['Label'] = []\n",
    "    df.to_csv(path_file, index=None)"
   ]
  },
  {
   "cell_type": "code",
   "execution_count": 67,
   "metadata": {},
   "outputs": [],
   "source": [
    "df = pd.read_csv(path_file)"
   ]
  },
  {
   "cell_type": "code",
   "execution_count": 68,
   "metadata": {},
   "outputs": [
    {
     "data": {
      "text/html": [
       "<div>\n",
       "<style scoped>\n",
       "    .dataframe tbody tr th:only-of-type {\n",
       "        vertical-align: middle;\n",
       "    }\n",
       "\n",
       "    .dataframe tbody tr th {\n",
       "        vertical-align: top;\n",
       "    }\n",
       "\n",
       "    .dataframe thead th {\n",
       "        text-align: right;\n",
       "    }\n",
       "</style>\n",
       "<table border=\"1\" class=\"dataframe\">\n",
       "  <thead>\n",
       "    <tr style=\"text-align: right;\">\n",
       "      <th></th>\n",
       "      <th>TrainId</th>\n",
       "      <th>Label</th>\n",
       "    </tr>\n",
       "  </thead>\n",
       "  <tbody>\n",
       "  </tbody>\n",
       "</table>\n",
       "</div>"
      ],
      "text/plain": [
       "Empty DataFrame\n",
       "Columns: [TrainId, Label]\n",
       "Index: []"
      ]
     },
     "execution_count": 68,
     "metadata": {},
     "output_type": "execute_result"
    }
   ],
   "source": [
    "df"
   ]
  },
  {
   "cell_type": "code",
   "execution_count": 71,
   "metadata": {},
   "outputs": [],
   "source": [
    "df_add = pd.DataFrame([[0, 'env']], columns=['TrainId','Label'])\n",
    "df = pd.concat([df,df_add])"
   ]
  },
  {
   "cell_type": "code",
   "execution_count": 72,
   "metadata": {},
   "outputs": [
    {
     "data": {
      "text/html": [
       "<div>\n",
       "<style scoped>\n",
       "    .dataframe tbody tr th:only-of-type {\n",
       "        vertical-align: middle;\n",
       "    }\n",
       "\n",
       "    .dataframe tbody tr th {\n",
       "        vertical-align: top;\n",
       "    }\n",
       "\n",
       "    .dataframe thead th {\n",
       "        text-align: right;\n",
       "    }\n",
       "</style>\n",
       "<table border=\"1\" class=\"dataframe\">\n",
       "  <thead>\n",
       "    <tr style=\"text-align: right;\">\n",
       "      <th></th>\n",
       "      <th>TrainId</th>\n",
       "      <th>Label</th>\n",
       "    </tr>\n",
       "  </thead>\n",
       "  <tbody>\n",
       "    <tr>\n",
       "      <th>0</th>\n",
       "      <td>0</td>\n",
       "      <td>env</td>\n",
       "    </tr>\n",
       "    <tr>\n",
       "      <th>0</th>\n",
       "      <td>0</td>\n",
       "      <td>env</td>\n",
       "    </tr>\n",
       "  </tbody>\n",
       "</table>\n",
       "</div>"
      ],
      "text/plain": [
       "  TrainId Label\n",
       "0       0   env\n",
       "0       0   env"
      ]
     },
     "execution_count": 72,
     "metadata": {},
     "output_type": "execute_result"
    }
   ],
   "source": [
    "df"
   ]
  },
  {
   "cell_type": "code",
   "execution_count": null,
   "metadata": {},
   "outputs": [],
   "source": []
  }
 ],
 "metadata": {
  "kernelspec": {
   "display_name": "Python 3.10.6 ('collenv': venv)",
   "language": "python",
   "name": "python3"
  },
  "language_info": {
   "codemirror_mode": {
    "name": "ipython",
    "version": 3
   },
   "file_extension": ".py",
   "mimetype": "text/x-python",
   "name": "python",
   "nbconvert_exporter": "python",
   "pygments_lexer": "ipython3",
   "version": "3.10.6"
  },
  "orig_nbformat": 4,
  "vscode": {
   "interpreter": {
    "hash": "114949ef03b193aff9d1aab1961b0ff460354702afecb5d639678d450dcefc1c"
   }
  }
 },
 "nbformat": 4,
 "nbformat_minor": 2
}
